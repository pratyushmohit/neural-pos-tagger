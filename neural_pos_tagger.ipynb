{
 "cells": [
  {
   "cell_type": "markdown",
   "id": "9975c64a-0898-4cdc-b923-865fb8d0246e",
   "metadata": {},
   "source": [
    "# Neural Part-of-Speech Tagger (POS Tagger)"
   ]
  },
  {
   "cell_type": "markdown",
   "id": "89b2d067-5c5c-4cfd-9382-211323687282",
   "metadata": {},
   "source": [
    "The goal of this project is to build a neural parts-of-speech tagger.\n",
    "\n",
    "The data is in JSON format and the key abbreviations are listed below:\n",
    "- word: word in the particular sentence\n",
    "- upos: Universal part-of-speech tag\n",
    "- xpos: Language-specific part-of-speech tag\n",
    "\n",
    "Metrics: We are going to evaulate our model with accuracy as it is a standard metric for most deep learning models.\n",
    "\n",
    "author: Pratyush Mohit"
   ]
  },
  {
   "cell_type": "code",
   "execution_count": 497,
   "id": "0dd113f7-dde7-4a19-9fbd-a23422cc911a",
   "metadata": {},
   "outputs": [],
   "source": [
    "import numpy as np\n",
    "import json\n",
    "from tqdm import tqdm\n",
    "from sklearn.model_selection import train_test_split\n",
    "import tensorflow as tf\n",
    "from keras.preprocessing.sequence import pad_sequences\n",
    "from keras.layers import Input, Embedding, SimpleRNN, LSTM, Dense, TimeDistributed, Activation\n",
    "from tensorflow.keras.models import Model\n",
    "\n",
    "import warnings\n",
    "warnings.filterwarnings('ignore')"
   ]
  },
  {
   "cell_type": "code",
   "execution_count": 2,
   "id": "e6d0f756-85f4-485c-bb0b-80e978a7b1c1",
   "metadata": {},
   "outputs": [],
   "source": [
    "with open('telugu_pos (1).json', 'r') as f:\n",
    "    data = json.load(f)"
   ]
  },
  {
   "cell_type": "code",
   "execution_count": 3,
   "id": "2729de4e-4e30-4e7e-81ae-77ce467e8fc4",
   "metadata": {},
   "outputs": [
    {
     "data": {
      "text/plain": [
       "[[{'word': 'మరో', 'upos': 'avy', 'xpos': 'QT_QTF'},\n",
       "  {'word': 'సంగతి', 'upos': 'n', 'xpos': 'N_NN'},\n",
       "  {'word': 'మీకు', 'upos': 'pn', 'xpos': 'PR_PRP'},\n",
       "  {'word': 'తెలుసా', 'upos': 'avy', 'xpos': 'V_VM'},\n",
       "  {'word': '?', 'upos': 'punc', 'xpos': 'RD_PUNC'}],\n",
       " [{'word': 'అందరి', 'upos': 'pn', 'xpos': 'PR_PRP'},\n",
       "  {'word': 'ముందూ', 'upos': 'n', 'xpos': 'N_NST'},\n",
       "  {'word': 'నా', 'upos': 'pn', 'xpos': 'PR_PRP'},\n",
       "  {'word': 'తెల్లబట్ట', 'upos': 'n', 'xpos': 'N_NN'},\n",
       "  {'word': 'బాధ', 'upos': 'n', 'xpos': 'N_NN'},\n",
       "  {'word': 'ఎలా', 'upos': 'avy', 'xpos': 'PR_PRQ'},\n",
       "  {'word': 'చెప్పుకొనేది', 'upos': 'unk', 'xpos': 'V_VM'},\n",
       "  {'word': '?', 'upos': 'punc', 'xpos': 'RD_PUNC'}],\n",
       " [{'word': 'ఇట్లా', 'upos': 'avy', 'xpos': 'RB'},\n",
       "  {'word': 'ఎందుకు', 'upos': 'avy', 'xpos': 'PR_PRQ'},\n",
       "  {'word': 'జరుగుతోంది', 'upos': 'v', 'xpos': 'V_VM'},\n",
       "  {'word': '?', 'upos': 'punc', 'xpos': 'RD_PUNC'}]]"
      ]
     },
     "execution_count": 3,
     "metadata": {},
     "output_type": "execute_result"
    }
   ],
   "source": [
    "data[0:3]"
   ]
  },
  {
   "cell_type": "code",
   "execution_count": 4,
   "id": "cbf4dbbd-26c2-4a82-989e-b55c91377c5f",
   "metadata": {},
   "outputs": [
    {
     "data": {
      "text/plain": [
       "[{'word': 'మరో', 'upos': 'avy', 'xpos': 'QT_QTF'},\n",
       " {'word': 'సంగతి', 'upos': 'n', 'xpos': 'N_NN'},\n",
       " {'word': 'మీకు', 'upos': 'pn', 'xpos': 'PR_PRP'},\n",
       " {'word': 'తెలుసా', 'upos': 'avy', 'xpos': 'V_VM'},\n",
       " {'word': '?', 'upos': 'punc', 'xpos': 'RD_PUNC'}]"
      ]
     },
     "execution_count": 4,
     "metadata": {},
     "output_type": "execute_result"
    }
   ],
   "source": [
    "data[0]"
   ]
  },
  {
   "cell_type": "code",
   "execution_count": 5,
   "id": "e9788865-a72b-416a-8438-46c6ed73d107",
   "metadata": {},
   "outputs": [],
   "source": [
    "#we will create two datasets. One for upos tags and the other for xpos tags"
   ]
  },
  {
   "cell_type": "code",
   "execution_count": 6,
   "id": "d9673170-8ea6-4713-9fe9-9e5af2f24b92",
   "metadata": {},
   "outputs": [
    {
     "name": "stderr",
     "output_type": "stream",
     "text": [
      "100%|███████████████████████████████████████████████████████████████████████████████████████| 3185/3185 [00:00<00:00, 398153.86it/s]\n"
     ]
    }
   ],
   "source": [
    "all_sentences = []\n",
    "all_upos = []\n",
    "all_xpos = []\n",
    "for sentence in tqdm(data):\n",
    "    current_sentence = []\n",
    "    current_upos = []\n",
    "    current_xpos = []\n",
    "    for word in sentence:\n",
    "        current_sentence.append(word['word'])\n",
    "        current_upos.append(word['upos'])\n",
    "        current_xpos.append(word['xpos'])\n",
    "    all_sentences.append(current_sentence)\n",
    "    all_upos.append(current_upos)\n",
    "    all_xpos.append(current_xpos)"
   ]
  },
  {
   "cell_type": "code",
   "execution_count": 7,
   "id": "1389168e-fa70-4cf4-82bf-888cc96d34af",
   "metadata": {},
   "outputs": [
    {
     "name": "stdout",
     "output_type": "stream",
     "text": [
      "3185\n",
      "3185\n",
      "3185\n"
     ]
    }
   ],
   "source": [
    "print(len(all_sentences))\n",
    "print(len(all_upos))\n",
    "print(len(all_xpos))"
   ]
  },
  {
   "cell_type": "markdown",
   "id": "5557e100-aec6-4d28-88ee-7f7ff44315aa",
   "metadata": {},
   "source": [
    "# We are now going to build a model for predicting upos"
   ]
  },
  {
   "cell_type": "code",
   "execution_count": 209,
   "id": "1df02c0d-cc3f-4c45-8a20-95f6733def19",
   "metadata": {},
   "outputs": [],
   "source": [
    "train_sentences, test_sentences, train_upos, test_upos = train_test_split(all_sentences, all_upos, test_size=0.2)"
   ]
  },
  {
   "cell_type": "code",
   "execution_count": 449,
   "id": "d806caad-abd6-4f69-93b8-5744c1b7717a",
   "metadata": {},
   "outputs": [
    {
     "name": "stdout",
     "output_type": "stream",
     "text": [
      "2548\n",
      "637\n",
      "2548\n",
      "637\n"
     ]
    }
   ],
   "source": [
    "print(len(train_sentences))\n",
    "print(len(test_sentences))\n",
    "print(len(train_upos))\n",
    "print(len(test_upos))"
   ]
  },
  {
   "cell_type": "code",
   "execution_count": 450,
   "id": "13808d72-652c-49b8-b466-0c0ff841031d",
   "metadata": {},
   "outputs": [
    {
     "data": {
      "text/plain": [
       "[['చదువు', 'తెలివిని', 'పెంచుతుంది', '.'],\n",
       " ['పోలీసుల', 'కంట', 'పడిండు', '.'],\n",
       " ['రెండో', 'ఏడు', 'నిండేలోపల', 'మెదడు', 'బాగా', 'పెరుగుతుంది', '.'],\n",
       " ['పాత', 'రకం', 'విత్తనాలు', 'ఈ', 'వ్యాధులను', 'ణూLL', '.'],\n",
       " ['కడుపులో', 'తిరుగుతూ', '.']]"
      ]
     },
     "execution_count": 450,
     "metadata": {},
     "output_type": "execute_result"
    }
   ],
   "source": [
    "train_sentences[0:5]"
   ]
  },
  {
   "cell_type": "code",
   "execution_count": 451,
   "id": "65af8651-0a89-4395-a53a-ec0e5302d55d",
   "metadata": {},
   "outputs": [
    {
     "data": {
      "text/plain": [
       "[['n', 'n', 'v', 'punc'],\n",
       " ['n', 'unk', 'unk', 'punc'],\n",
       " ['adj', 'n', 'v', 'n', 'avy', 'v', 'punc'],\n",
       " ['adj', 'n', 'n', 'avy', 'n', 'unk', 'punc'],\n",
       " ['n', 'v', 'punc']]"
      ]
     },
     "execution_count": 451,
     "metadata": {},
     "output_type": "execute_result"
    }
   ],
   "source": [
    "train_upos[0:5]"
   ]
  },
  {
   "cell_type": "code",
   "execution_count": 452,
   "id": "69947680-a82e-4386-8fcf-750b579c91d0",
   "metadata": {},
   "outputs": [],
   "source": [
    "words, upos = set([]), set([])\n",
    " \n",
    "for sentence in train_sentences:\n",
    "    for word in sentence:\n",
    "        words.add(word.lower())\n",
    "\n",
    "for tag in train_upos:\n",
    "    for t in tag:\n",
    "        upos.add(t)\n",
    "\n",
    "word2index = {w: i + 2 for i, w in enumerate(list(words))}\n",
    "word2index['-PAD-'] = 0  # The special value used for padding\n",
    "word2index['-OOV-'] = 1  # The special value used for OOVs\n",
    " \n",
    "upos2index = {t: i + 1 for i, t in enumerate(list(upos))}\n",
    "upos2index['-PAD-'] = 0"
   ]
  },
  {
   "cell_type": "code",
   "execution_count": 453,
   "id": "1b87d556-f771-41e7-9abd-b5e018753f08",
   "metadata": {},
   "outputs": [
    {
     "data": {
      "text/plain": [
       "4970"
      ]
     },
     "execution_count": 453,
     "metadata": {},
     "output_type": "execute_result"
    }
   ],
   "source": [
    "len(words)"
   ]
  },
  {
   "cell_type": "code",
   "execution_count": 454,
   "id": "d1122aa6-101a-4ec4-a582-53f42a6ce447",
   "metadata": {},
   "outputs": [
    {
     "data": {
      "text/plain": [
       "24"
      ]
     },
     "execution_count": 454,
     "metadata": {},
     "output_type": "execute_result"
    }
   ],
   "source": [
    "len(upos)"
   ]
  },
  {
   "cell_type": "code",
   "execution_count": 455,
   "id": "12cba3e0-9220-40ee-83a8-cb41ac5aac84",
   "metadata": {},
   "outputs": [],
   "source": [
    "train_sentences_x, test_sentences_x, train_upos_y, test_upos_y = [], [], [], []\n",
    " \n",
    "for sentence in train_sentences:\n",
    "    sentence_int = []\n",
    "    for word in sentence:\n",
    "        try:\n",
    "            sentence_int.append(word2index[word.lower()])\n",
    "        except KeyError:\n",
    "            sentence_int.append(word2index['-OOV-'])\n",
    "    train_sentences_x.append(sentence_int)\n",
    "\n",
    "for sentence in test_sentences:\n",
    "    sentence_int = []\n",
    "    for word in sentence:\n",
    "        try:\n",
    "            sentence_int.append(word2index[word.lower()])\n",
    "        except KeyError:\n",
    "            sentence_int.append(word2index['-OOV-'])\n",
    "    test_sentences_x.append(sentence_int)\n",
    "\n",
    "for s in train_upos:\n",
    "    train_upos_y.append([upos2index[t] for t in s])\n",
    "\n",
    "for s in test_upos:\n",
    "    test_upos_y.append([upos2index[t] for t in s])"
   ]
  },
  {
   "cell_type": "code",
   "execution_count": 456,
   "id": "e5475d0d-2b73-45c5-b4a1-069de8daffc5",
   "metadata": {},
   "outputs": [
    {
     "name": "stdout",
     "output_type": "stream",
     "text": [
      "[390, 3852, 2949, 1705]\n",
      "[1, 1, 647, 1, 1, 3449, 1, 1437, 1705]\n",
      "[6, 6, 24, 7]\n",
      "[12, 6, 7, 6, 6, 12, 6, 24, 7]\n"
     ]
    }
   ],
   "source": [
    "print(train_sentences_x[0])\n",
    "print(test_sentences_x[0])\n",
    "print(train_upos_y[0])\n",
    "print(test_upos_y[0])"
   ]
  },
  {
   "cell_type": "code",
   "execution_count": 457,
   "id": "e49a0039-fc7c-4ae4-9d19-191e4f8eab9d",
   "metadata": {},
   "outputs": [
    {
     "name": "stdout",
     "output_type": "stream",
     "text": [
      "26\n"
     ]
    }
   ],
   "source": [
    "MAX_LENGTH = len(max(train_sentences_x, key=len))\n",
    "print(MAX_LENGTH)"
   ]
  },
  {
   "cell_type": "code",
   "execution_count": 219,
   "id": "df38619c-bb7d-4204-9666-8fcae095f98a",
   "metadata": {},
   "outputs": [],
   "source": [
    "train_sentences_x = pad_sequences(train_sentences_x, maxlen=MAX_LENGTH, padding='post')\n",
    "test_sentences_x = pad_sequences(test_sentences_x, maxlen=MAX_LENGTH, padding='post')\n",
    "train_upos_y = pad_sequences(train_upos_y, maxlen=MAX_LENGTH, padding='post')\n",
    "test_upos_y = pad_sequences(test_upos_y, maxlen=MAX_LENGTH, padding='post')"
   ]
  },
  {
   "cell_type": "code",
   "execution_count": 220,
   "id": "fda56850-6d21-4380-8392-feafc2f67b12",
   "metadata": {},
   "outputs": [
    {
     "name": "stdout",
     "output_type": "stream",
     "text": [
      "[ 390 3852 2949 1705    0    0    0    0    0    0    0    0    0    0\n",
      "    0    0    0    0    0    0    0    0    0    0    0    0]\n",
      "[   1    1  647    1    1 3449    1 1437 1705    0    0    0    0    0\n",
      "    0    0    0    0    0    0    0    0    0    0    0    0]\n",
      "[ 6  6 24  7  0  0  0  0  0  0  0  0  0  0  0  0  0  0  0  0  0  0  0  0\n",
      "  0  0]\n",
      "[12  6  7  6  6 12  6 24  7  0  0  0  0  0  0  0  0  0  0  0  0  0  0  0\n",
      "  0  0]\n"
     ]
    }
   ],
   "source": [
    "print(train_sentences_x[0])\n",
    "print(test_sentences_x[0])\n",
    "print(train_upos_y[0])\n",
    "print(test_upos_y[0])"
   ]
  },
  {
   "cell_type": "code",
   "execution_count": 221,
   "id": "765c4f21-6128-4d13-b074-dde6474c056a",
   "metadata": {},
   "outputs": [],
   "source": [
    "def to_categorical(sequences, categories):\n",
    "    cat_sequences = []\n",
    "    for s in sequences:\n",
    "        cats = []\n",
    "        for item in s:\n",
    "            cats.append(np.zeros(categories))\n",
    "            cats[-1][item] = 1.0\n",
    "        cat_sequences.append(cats)\n",
    "    return np.array(cat_sequences)"
   ]
  },
  {
   "cell_type": "code",
   "execution_count": 222,
   "id": "fecfdf44-9b85-4006-bcc2-2a75a9eeff27",
   "metadata": {},
   "outputs": [],
   "source": [
    "cat_train_upos_y = to_categorical(train_upos_y, len(upos2index))\n",
    "cat_test_upos_y = to_categorical(test_upos_y, len(upos2index))"
   ]
  },
  {
   "cell_type": "markdown",
   "id": "c768016b-1929-4977-a71d-c3644113a927",
   "metadata": {},
   "source": [
    "## Model 1 - Vanilla Recurrent Neural Network"
   ]
  },
  {
   "cell_type": "code",
   "execution_count": 312,
   "id": "9977485c-5a0c-4af0-b1ce-978f65755f2f",
   "metadata": {},
   "outputs": [],
   "source": [
    "tf.keras.backend.clear_session()\n",
    "\n",
    "input_layer_1 = Input(shape=(MAX_LENGTH,))\n",
    "embedding_1 = Embedding(input_dim=len(word2index), output_dim=100)(input_layer_1)\n",
    "rnn = SimpleRNN(100, return_sequences=True)(embedding_1)\n",
    "output_1 = TimeDistributed(Dense(len(upos2index)))(rnn)\n",
    "activation_1 = Activation('softmax')(output_1)"
   ]
  },
  {
   "cell_type": "code",
   "execution_count": 313,
   "id": "0a5212db-a4fc-458e-bfd6-c035e69c549f",
   "metadata": {},
   "outputs": [],
   "source": [
    "model1 = Model(inputs=[input_layer_1], outputs=[activation_1])"
   ]
  },
  {
   "cell_type": "code",
   "execution_count": 314,
   "id": "f468d50e-819c-4d20-b458-fb291ac4dc67",
   "metadata": {},
   "outputs": [],
   "source": [
    "model1.compile(loss='categorical_crossentropy', optimizer='adam', metrics=['accuracy'])"
   ]
  },
  {
   "cell_type": "code",
   "execution_count": 315,
   "id": "33b17012-227c-41a2-8086-839fc2d0c875",
   "metadata": {},
   "outputs": [
    {
     "name": "stdout",
     "output_type": "stream",
     "text": [
      "Model: \"model\"\n",
      "_________________________________________________________________\n",
      "Layer (type)                 Output Shape              Param #   \n",
      "=================================================================\n",
      "input_1 (InputLayer)         [(None, 26)]              0         \n",
      "_________________________________________________________________\n",
      "embedding (Embedding)        (None, 26, 100)           497200    \n",
      "_________________________________________________________________\n",
      "simple_rnn (SimpleRNN)       (None, 26, 100)           20100     \n",
      "_________________________________________________________________\n",
      "time_distributed (TimeDistri (None, 26, 25)            2525      \n",
      "_________________________________________________________________\n",
      "activation (Activation)      (None, 26, 25)            0         \n",
      "=================================================================\n",
      "Total params: 519,825\n",
      "Trainable params: 519,825\n",
      "Non-trainable params: 0\n",
      "_________________________________________________________________\n"
     ]
    }
   ],
   "source": [
    "model1.summary()"
   ]
  },
  {
   "cell_type": "code",
   "execution_count": 316,
   "id": "04bbdeb8-5981-4558-8659-3d8d01abea8d",
   "metadata": {},
   "outputs": [
    {
     "name": "stdout",
     "output_type": "stream",
     "text": [
      "Epoch 1/40\n",
      "20/20 [==============================] - 2s 63ms/step - loss: 2.3126 - accuracy: 0.5056 - val_loss: 0.7733 - val_accuracy: 0.7907\n",
      "Epoch 2/40\n",
      "20/20 [==============================] - 1s 48ms/step - loss: 0.7488 - accuracy: 0.7941 - val_loss: 0.6890 - val_accuracy: 0.8032\n",
      "Epoch 3/40\n",
      "20/20 [==============================] - 1s 47ms/step - loss: 0.6500 - accuracy: 0.8223 - val_loss: 0.6240 - val_accuracy: 0.8272\n",
      "Epoch 4/40\n",
      "20/20 [==============================] - 1s 49ms/step - loss: 0.5696 - accuracy: 0.8454 - val_loss: 0.5445 - val_accuracy: 0.8806\n",
      "Epoch 5/40\n",
      "20/20 [==============================] - 1s 47ms/step - loss: 0.4825 - accuracy: 0.9141 - val_loss: 0.4810 - val_accuracy: 0.9009\n",
      "Epoch 6/40\n",
      "20/20 [==============================] - 1s 47ms/step - loss: 0.3896 - accuracy: 0.9363 - val_loss: 0.4237 - val_accuracy: 0.9120\n",
      "Epoch 7/40\n",
      "20/20 [==============================] - 1s 50ms/step - loss: 0.3247 - accuracy: 0.9393 - val_loss: 0.3876 - val_accuracy: 0.9139\n",
      "Epoch 8/40\n",
      "20/20 [==============================] - 1s 48ms/step - loss: 0.2766 - accuracy: 0.9416 - val_loss: 0.3480 - val_accuracy: 0.9213\n",
      "Epoch 9/40\n",
      "20/20 [==============================] - 1s 47ms/step - loss: 0.2281 - accuracy: 0.9490 - val_loss: 0.3161 - val_accuracy: 0.9303\n",
      "Epoch 10/40\n",
      "20/20 [==============================] - 1s 47ms/step - loss: 0.1985 - accuracy: 0.9556 - val_loss: 0.2973 - val_accuracy: 0.9337\n",
      "Epoch 11/40\n",
      "20/20 [==============================] - 1s 47ms/step - loss: 0.1694 - accuracy: 0.9630 - val_loss: 0.2665 - val_accuracy: 0.9396\n",
      "Epoch 12/40\n",
      "20/20 [==============================] - 1s 48ms/step - loss: 0.1410 - accuracy: 0.9699 - val_loss: 0.2385 - val_accuracy: 0.9451\n",
      "Epoch 13/40\n",
      "20/20 [==============================] - 1s 47ms/step - loss: 0.1179 - accuracy: 0.9760 - val_loss: 0.2211 - val_accuracy: 0.9478\n",
      "Epoch 14/40\n",
      "20/20 [==============================] - 1s 46ms/step - loss: 0.0962 - accuracy: 0.9822 - val_loss: 0.2039 - val_accuracy: 0.9525\n",
      "Epoch 15/40\n",
      "20/20 [==============================] - 1s 46ms/step - loss: 0.0801 - accuracy: 0.9859 - val_loss: 0.1946 - val_accuracy: 0.9542\n",
      "Epoch 16/40\n",
      "20/20 [==============================] - 1s 48ms/step - loss: 0.0686 - accuracy: 0.9881 - val_loss: 0.1906 - val_accuracy: 0.9551\n",
      "Epoch 17/40\n",
      "20/20 [==============================] - 1s 47ms/step - loss: 0.0544 - accuracy: 0.9907 - val_loss: 0.1847 - val_accuracy: 0.9566\n",
      "Epoch 18/40\n",
      "20/20 [==============================] - 1s 47ms/step - loss: 0.0490 - accuracy: 0.9917 - val_loss: 0.1794 - val_accuracy: 0.9582\n",
      "Epoch 19/40\n",
      "20/20 [==============================] - 1s 46ms/step - loss: 0.0428 - accuracy: 0.9928 - val_loss: 0.1745 - val_accuracy: 0.9588\n",
      "Epoch 20/40\n",
      "20/20 [==============================] - 1s 47ms/step - loss: 0.0351 - accuracy: 0.9942 - val_loss: 0.1744 - val_accuracy: 0.9586\n",
      "Epoch 21/40\n",
      "20/20 [==============================] - 1s 48ms/step - loss: 0.0341 - accuracy: 0.9940 - val_loss: 0.1716 - val_accuracy: 0.9594\n",
      "Epoch 22/40\n",
      "20/20 [==============================] - 1s 47ms/step - loss: 0.0286 - accuracy: 0.9951 - val_loss: 0.1719 - val_accuracy: 0.9592\n",
      "Epoch 23/40\n",
      "20/20 [==============================] - 1s 48ms/step - loss: 0.0259 - accuracy: 0.9956 - val_loss: 0.1708 - val_accuracy: 0.9595\n",
      "Epoch 24/40\n",
      "20/20 [==============================] - 1s 48ms/step - loss: 0.0245 - accuracy: 0.9957 - val_loss: 0.1690 - val_accuracy: 0.9601\n",
      "Epoch 25/40\n",
      "20/20 [==============================] - 1s 48ms/step - loss: 0.0210 - accuracy: 0.9963 - val_loss: 0.1682 - val_accuracy: 0.9601\n",
      "Epoch 26/40\n",
      "20/20 [==============================] - 1s 47ms/step - loss: 0.0211 - accuracy: 0.9964 - val_loss: 0.1692 - val_accuracy: 0.9599\n",
      "Epoch 27/40\n",
      "20/20 [==============================] - 1s 46ms/step - loss: 0.0172 - accuracy: 0.9970 - val_loss: 0.1690 - val_accuracy: 0.9601\n",
      "Epoch 28/40\n",
      "20/20 [==============================] - 1s 45ms/step - loss: 0.0174 - accuracy: 0.9969 - val_loss: 0.1683 - val_accuracy: 0.9606\n",
      "Epoch 29/40\n",
      "20/20 [==============================] - 1s 46ms/step - loss: 0.0154 - accuracy: 0.9974 - val_loss: 0.1683 - val_accuracy: 0.9602\n",
      "Epoch 30/40\n",
      "20/20 [==============================] - 1s 49ms/step - loss: 0.0154 - accuracy: 0.9975 - val_loss: 0.1681 - val_accuracy: 0.9605\n",
      "Epoch 31/40\n",
      "20/20 [==============================] - 1s 47ms/step - loss: 0.0128 - accuracy: 0.9981 - val_loss: 0.1661 - val_accuracy: 0.9611\n",
      "Epoch 32/40\n",
      "20/20 [==============================] - 1s 49ms/step - loss: 0.0128 - accuracy: 0.9978 - val_loss: 0.1657 - val_accuracy: 0.9612\n",
      "Epoch 33/40\n",
      "20/20 [==============================] - 1s 49ms/step - loss: 0.0121 - accuracy: 0.9978 - val_loss: 0.1674 - val_accuracy: 0.9608\n",
      "Epoch 34/40\n",
      "20/20 [==============================] - 1s 47ms/step - loss: 0.0112 - accuracy: 0.9981 - val_loss: 0.1661 - val_accuracy: 0.9612\n",
      "Epoch 35/40\n",
      "20/20 [==============================] - 1s 48ms/step - loss: 0.0101 - accuracy: 0.9983 - val_loss: 0.1679 - val_accuracy: 0.9610\n",
      "Epoch 36/40\n",
      "20/20 [==============================] - 1s 48ms/step - loss: 0.0099 - accuracy: 0.9982 - val_loss: 0.1667 - val_accuracy: 0.9610\n",
      "Epoch 37/40\n",
      "20/20 [==============================] - 1s 47ms/step - loss: 0.0088 - accuracy: 0.9985 - val_loss: 0.1665 - val_accuracy: 0.9611\n",
      "Epoch 38/40\n",
      "20/20 [==============================] - 1s 48ms/step - loss: 0.0085 - accuracy: 0.9984 - val_loss: 0.1669 - val_accuracy: 0.9609\n",
      "Epoch 39/40\n",
      "20/20 [==============================] - 1s 47ms/step - loss: 0.0077 - accuracy: 0.9986 - val_loss: 0.1669 - val_accuracy: 0.9607\n",
      "Epoch 40/40\n",
      "20/20 [==============================] - 1s 48ms/step - loss: 0.0075 - accuracy: 0.9985 - val_loss: 0.1675 - val_accuracy: 0.9605\n"
     ]
    }
   ],
   "source": [
    "history1 = model1.fit(train_sentences_x, cat_train_upos_y, batch_size=128, epochs=40, validation_data=(test_sentences_x, cat_test_upos_y))"
   ]
  },
  {
   "cell_type": "code",
   "execution_count": 317,
   "id": "4bfa4114-9e50-4017-ad46-325b44e9824b",
   "metadata": {},
   "outputs": [
    {
     "name": "stdout",
     "output_type": "stream",
     "text": [
      "20/20 [==============================] - 0s 7ms/step - loss: 0.1675 - accuracy: 0.9605\n",
      "accuracy: 96.05120420455933\n"
     ]
    }
   ],
   "source": [
    "scores = model1.evaluate(test_sentences_x, cat_test_upos_y)\n",
    "print(f\"{model1.metrics_names[1]}: {scores[1] * 100}\")"
   ]
  },
  {
   "cell_type": "markdown",
   "id": "a96ea1af-be2c-43aa-9dbd-f41eaea12821",
   "metadata": {},
   "source": [
    "## Model 2 - Long Short Term Memory"
   ]
  },
  {
   "cell_type": "code",
   "execution_count": 378,
   "id": "1980daf6-2f16-4b73-a426-a386b5750f28",
   "metadata": {},
   "outputs": [],
   "source": [
    "tf.keras.backend.clear_session()\n",
    "\n",
    "input_layer_2 = Input(shape=(MAX_LENGTH,))\n",
    "embedding_2 = Embedding(input_dim=len(word2index), output_dim=128)(input_layer_2)\n",
    "lstm = LSTM(256, return_sequences=True)(embedding_2)\n",
    "output_2 = TimeDistributed(Dense(len(upos2index)))(lstm)\n",
    "activation_2 = Activation('softmax')(output_2)"
   ]
  },
  {
   "cell_type": "code",
   "execution_count": 379,
   "id": "28fb2fa4-6591-4055-aed1-227a008a5997",
   "metadata": {},
   "outputs": [],
   "source": [
    "model2 = Model(inputs=[input_layer_2], outputs=[activation_2])"
   ]
  },
  {
   "cell_type": "code",
   "execution_count": 380,
   "id": "fc86b029-90cc-463b-a8b5-72f44108e69f",
   "metadata": {},
   "outputs": [],
   "source": [
    "model2.compile(loss='categorical_crossentropy', optimizer='adam', metrics=['accuracy'])"
   ]
  },
  {
   "cell_type": "code",
   "execution_count": 381,
   "id": "c2940263-790d-4b7f-8602-0c943e26e467",
   "metadata": {},
   "outputs": [
    {
     "name": "stdout",
     "output_type": "stream",
     "text": [
      "Model: \"model\"\n",
      "_________________________________________________________________\n",
      "Layer (type)                 Output Shape              Param #   \n",
      "=================================================================\n",
      "input_1 (InputLayer)         [(None, 26)]              0         \n",
      "_________________________________________________________________\n",
      "embedding (Embedding)        (None, 26, 128)           636416    \n",
      "_________________________________________________________________\n",
      "lstm (LSTM)                  (None, 26, 256)           394240    \n",
      "_________________________________________________________________\n",
      "time_distributed (TimeDistri (None, 26, 25)            6425      \n",
      "_________________________________________________________________\n",
      "activation (Activation)      (None, 26, 25)            0         \n",
      "=================================================================\n",
      "Total params: 1,037,081\n",
      "Trainable params: 1,037,081\n",
      "Non-trainable params: 0\n",
      "_________________________________________________________________\n"
     ]
    }
   ],
   "source": [
    "model2.summary()"
   ]
  },
  {
   "cell_type": "code",
   "execution_count": 382,
   "id": "0cd041b4-6b8f-4a61-a8a3-84f5838bdce0",
   "metadata": {},
   "outputs": [
    {
     "name": "stdout",
     "output_type": "stream",
     "text": [
      "Epoch 1/40\n",
      "20/20 [==============================] - 3s 47ms/step - loss: 2.3616 - accuracy: 0.6554 - val_loss: 0.8219 - val_accuracy: 0.7895\n",
      "Epoch 2/40\n",
      "20/20 [==============================] - 0s 18ms/step - loss: 0.7883 - accuracy: 0.7927 - val_loss: 0.6988 - val_accuracy: 0.8026\n",
      "Epoch 3/40\n",
      "20/20 [==============================] - 0s 18ms/step - loss: 0.6698 - accuracy: 0.7962 - val_loss: 0.6309 - val_accuracy: 0.8007\n",
      "Epoch 4/40\n",
      "20/20 [==============================] - 0s 18ms/step - loss: 0.5735 - accuracy: 0.7995 - val_loss: 0.5817 - val_accuracy: 0.8297\n",
      "Epoch 5/40\n",
      "20/20 [==============================] - 0s 18ms/step - loss: 0.5231 - accuracy: 0.8265 - val_loss: 0.5350 - val_accuracy: 0.8589\n",
      "Epoch 6/40\n",
      "20/20 [==============================] - 0s 17ms/step - loss: 0.4628 - accuracy: 0.8576 - val_loss: 0.4953 - val_accuracy: 0.8832\n",
      "Epoch 7/40\n",
      "20/20 [==============================] - 0s 17ms/step - loss: 0.4215 - accuracy: 0.9012 - val_loss: 0.4528 - val_accuracy: 0.8931\n",
      "Epoch 8/40\n",
      "20/20 [==============================] - 0s 18ms/step - loss: 0.3690 - accuracy: 0.9114 - val_loss: 0.4109 - val_accuracy: 0.8963\n",
      "Epoch 9/40\n",
      "20/20 [==============================] - 0s 18ms/step - loss: 0.3317 - accuracy: 0.9153 - val_loss: 0.3776 - val_accuracy: 0.9018\n",
      "Epoch 10/40\n",
      "20/20 [==============================] - 0s 18ms/step - loss: 0.3045 - accuracy: 0.9171 - val_loss: 0.3523 - val_accuracy: 0.9040\n",
      "Epoch 11/40\n",
      "20/20 [==============================] - 0s 18ms/step - loss: 0.2796 - accuracy: 0.9202 - val_loss: 0.3356 - val_accuracy: 0.9055\n",
      "Epoch 12/40\n",
      "20/20 [==============================] - 0s 17ms/step - loss: 0.2596 - accuracy: 0.9244 - val_loss: 0.3198 - val_accuracy: 0.9103\n",
      "Epoch 13/40\n",
      "20/20 [==============================] - 0s 17ms/step - loss: 0.2341 - accuracy: 0.9324 - val_loss: 0.3004 - val_accuracy: 0.9168\n",
      "Epoch 14/40\n",
      "20/20 [==============================] - 0s 17ms/step - loss: 0.2049 - accuracy: 0.9407 - val_loss: 0.2820 - val_accuracy: 0.9228\n",
      "Epoch 15/40\n",
      "20/20 [==============================] - 0s 17ms/step - loss: 0.1901 - accuracy: 0.9428 - val_loss: 0.2601 - val_accuracy: 0.9269\n",
      "Epoch 16/40\n",
      "20/20 [==============================] - 0s 17ms/step - loss: 0.1607 - accuracy: 0.9489 - val_loss: 0.2472 - val_accuracy: 0.9298\n",
      "Epoch 17/40\n",
      "20/20 [==============================] - 0s 17ms/step - loss: 0.1423 - accuracy: 0.9531 - val_loss: 0.2272 - val_accuracy: 0.9352\n",
      "Epoch 18/40\n",
      "20/20 [==============================] - 0s 17ms/step - loss: 0.1230 - accuracy: 0.9588 - val_loss: 0.2202 - val_accuracy: 0.9384\n",
      "Epoch 19/40\n",
      "20/20 [==============================] - 0s 17ms/step - loss: 0.1070 - accuracy: 0.9647 - val_loss: 0.2086 - val_accuracy: 0.9444\n",
      "Epoch 20/40\n",
      "20/20 [==============================] - 0s 17ms/step - loss: 0.0901 - accuracy: 0.9725 - val_loss: 0.1939 - val_accuracy: 0.9516\n",
      "Epoch 21/40\n",
      "20/20 [==============================] - 0s 17ms/step - loss: 0.0784 - accuracy: 0.9794 - val_loss: 0.1814 - val_accuracy: 0.9580\n",
      "Epoch 22/40\n",
      "20/20 [==============================] - 0s 17ms/step - loss: 0.0639 - accuracy: 0.9868 - val_loss: 0.1736 - val_accuracy: 0.9603\n",
      "Epoch 23/40\n",
      "20/20 [==============================] - 0s 17ms/step - loss: 0.0538 - accuracy: 0.9889 - val_loss: 0.1678 - val_accuracy: 0.9608\n",
      "Epoch 24/40\n",
      "20/20 [==============================] - 0s 17ms/step - loss: 0.0455 - accuracy: 0.9910 - val_loss: 0.1615 - val_accuracy: 0.9627\n",
      "Epoch 25/40\n",
      "20/20 [==============================] - 0s 17ms/step - loss: 0.0393 - accuracy: 0.9918 - val_loss: 0.1530 - val_accuracy: 0.9634\n",
      "Epoch 26/40\n",
      "20/20 [==============================] - 0s 17ms/step - loss: 0.0335 - accuracy: 0.9933 - val_loss: 0.1533 - val_accuracy: 0.9632\n",
      "Epoch 27/40\n",
      "20/20 [==============================] - 0s 18ms/step - loss: 0.0308 - accuracy: 0.9937 - val_loss: 0.1512 - val_accuracy: 0.9631\n",
      "Epoch 28/40\n",
      "20/20 [==============================] - 0s 17ms/step - loss: 0.0288 - accuracy: 0.9936 - val_loss: 0.1481 - val_accuracy: 0.9644\n",
      "Epoch 29/40\n",
      "20/20 [==============================] - 0s 17ms/step - loss: 0.0244 - accuracy: 0.9946 - val_loss: 0.1501 - val_accuracy: 0.9633\n",
      "Epoch 30/40\n",
      "20/20 [==============================] - 0s 17ms/step - loss: 0.0221 - accuracy: 0.9954 - val_loss: 0.1487 - val_accuracy: 0.9641\n",
      "Epoch 31/40\n",
      "20/20 [==============================] - 0s 17ms/step - loss: 0.0205 - accuracy: 0.9954 - val_loss: 0.1495 - val_accuracy: 0.9635\n",
      "Epoch 32/40\n",
      "20/20 [==============================] - 0s 17ms/step - loss: 0.0187 - accuracy: 0.9957 - val_loss: 0.1503 - val_accuracy: 0.9638\n",
      "Epoch 33/40\n",
      "20/20 [==============================] - 0s 17ms/step - loss: 0.0175 - accuracy: 0.9960 - val_loss: 0.1485 - val_accuracy: 0.9645\n",
      "Epoch 34/40\n",
      "20/20 [==============================] - 0s 17ms/step - loss: 0.0172 - accuracy: 0.9961 - val_loss: 0.1479 - val_accuracy: 0.9645\n",
      "Epoch 35/40\n",
      "20/20 [==============================] - 0s 17ms/step - loss: 0.0165 - accuracy: 0.9958 - val_loss: 0.1461 - val_accuracy: 0.9644\n",
      "Epoch 36/40\n",
      "20/20 [==============================] - 0s 17ms/step - loss: 0.0152 - accuracy: 0.9967 - val_loss: 0.1446 - val_accuracy: 0.9650\n",
      "Epoch 37/40\n",
      "20/20 [==============================] - 0s 17ms/step - loss: 0.0139 - accuracy: 0.9967 - val_loss: 0.1448 - val_accuracy: 0.9651\n",
      "Epoch 38/40\n",
      "20/20 [==============================] - 0s 17ms/step - loss: 0.0130 - accuracy: 0.9969 - val_loss: 0.1463 - val_accuracy: 0.9649\n",
      "Epoch 39/40\n",
      "20/20 [==============================] - 0s 17ms/step - loss: 0.0128 - accuracy: 0.9970 - val_loss: 0.1481 - val_accuracy: 0.9642\n",
      "Epoch 40/40\n",
      "20/20 [==============================] - 0s 17ms/step - loss: 0.0116 - accuracy: 0.9972 - val_loss: 0.1455 - val_accuracy: 0.9656\n"
     ]
    }
   ],
   "source": [
    "history2 = model2.fit(train_sentences_x, cat_train_upos_y, batch_size=128, epochs=40, validation_data=(test_sentences_x, cat_test_upos_y))"
   ]
  },
  {
   "cell_type": "code",
   "execution_count": 383,
   "id": "091732c8-ace7-4fd6-8ec1-ba4646770d43",
   "metadata": {},
   "outputs": [
    {
     "name": "stdout",
     "output_type": "stream",
     "text": [
      "20/20 [==============================] - 0s 5ms/step - loss: 0.1455 - accuracy: 0.9656\n",
      "accuracy: 96.56442403793335\n"
     ]
    }
   ],
   "source": [
    "scores = model2.evaluate(test_sentences_x, cat_test_upos_y)\n",
    "print(f\"{model2.metrics_names[1]}: {scores[1] * 100}\")"
   ]
  },
  {
   "cell_type": "code",
   "execution_count": 498,
   "id": "3e7a9840-edd2-4726-a789-dcc5d851f814",
   "metadata": {},
   "outputs": [],
   "source": [
    "model2.save('pos_tagger.h5')"
   ]
  },
  {
   "cell_type": "markdown",
   "id": "4f7c973d-5b34-4140-b02c-984218450d5a",
   "metadata": {},
   "source": [
    "# Observations:\n",
    "We have built two models to predict the upos (Universal Parts Of Speech) tag for each word in a sentence from the dataset. The first model is built with a simple/vanilla RNN. After training, we see that the accuracy received is 96.0512%. The second model is built with a Bidirectional LSTM and we have received an accuracy of 96.5644% on validation data. Both the models have a time distributed layer as we need temporal slicing.\n",
    "\n",
    "We see that model 2 is performing better than model 1 i.e, the Bidirectional LSTM model performs better than a simple RNN model. LSTM is able to capture long term dependencies. This means if a particular sentence is long, LSTM is able to capture the essence better than an simple RNN model. If the dataset is larger and more complex with many long sentences, RNN will eventually fail to perform well but LSTM can be tuned as it is flexible and able to capture more complex patterns in the data."
   ]
  },
  {
   "cell_type": "markdown",
   "id": "0d0f566f-dc04-4bd5-9fef-2d302c0ba6d5",
   "metadata": {},
   "source": [
    "# Now we will alter the sentences a bit and evaluate the model performance"
   ]
  },
  {
   "cell_type": "code",
   "execution_count": 196,
   "id": "55cfab5a-7704-49eb-afb1-4e1fdef01b21",
   "metadata": {},
   "outputs": [],
   "source": [
    "#we will remove all words with length less than or equal to two"
   ]
  },
  {
   "cell_type": "code",
   "execution_count": 424,
   "id": "fbc89c3a-811a-436c-8e02-b85a16ccc39f",
   "metadata": {},
   "outputs": [],
   "source": [
    "train_sentences_augmented = []\n",
    "all_indices = []\n",
    "\n",
    "for sentence in train_sentences:\n",
    "    current_sentence = []\n",
    "    current_index = []\n",
    "    for index, word in enumerate(sentence):\n",
    "        if len(word) > 3:\n",
    "            current_sentence.append(word)\n",
    "            current_index.append(index)\n",
    "    train_sentences_augmented.append(current_sentence)\n",
    "    all_indices.append(current_index)"
   ]
  },
  {
   "cell_type": "code",
   "execution_count": 458,
   "id": "12d286d5-3a8b-4c17-bf0c-92df388fefe3",
   "metadata": {},
   "outputs": [
    {
     "data": {
      "text/plain": [
       "[['చదువు', 'తెలివిని', 'పెంచుతుంది'],\n",
       " ['పోలీసుల', 'పడిండు'],\n",
       " ['రెండో', 'నిండేలోపల', 'మెదడు', 'బాగా', 'పెరుగుతుంది'],\n",
       " ['విత్తనాలు', 'వ్యాధులను', 'ణూLL'],\n",
       " ['కడుపులో', 'తిరుగుతూ']]"
      ]
     },
     "execution_count": 458,
     "metadata": {},
     "output_type": "execute_result"
    }
   ],
   "source": [
    "train_sentences_augmented[0:5]"
   ]
  },
  {
   "cell_type": "code",
   "execution_count": 459,
   "id": "f35069ca-afc1-4d40-b0c0-aff75a6d9789",
   "metadata": {},
   "outputs": [],
   "source": [
    "train_upos_augmented = []\n",
    "for indices, upos in zip(all_indices, train_upos):\n",
    "    train_upos_augmented.append(list(np.array(upos)[indices]))"
   ]
  },
  {
   "cell_type": "code",
   "execution_count": 460,
   "id": "c4002965-58f2-4fef-86e5-3344be9dfefa",
   "metadata": {},
   "outputs": [
    {
     "data": {
      "text/plain": [
       "[['n', 'n', 'v'],\n",
       " ['n', 'unk'],\n",
       " ['adj', 'v', 'n', 'avy', 'v'],\n",
       " ['n', 'n', 'unk'],\n",
       " ['n', 'v']]"
      ]
     },
     "execution_count": 460,
     "metadata": {},
     "output_type": "execute_result"
    }
   ],
   "source": [
    "train_upos_augmented[0:5]"
   ]
  },
  {
   "cell_type": "code",
   "execution_count": 469,
   "id": "68c6b2d9-a603-40fd-8a90-c76f13506d7a",
   "metadata": {},
   "outputs": [],
   "source": [
    "words_aug, upos_aug = set([]), set([])\n",
    " \n",
    "for sentence in train_sentences_augmented:\n",
    "    for word in sentence:\n",
    "        words_aug.add(word.lower())\n",
    "\n",
    "for tag in train_upos_augmented:\n",
    "    for t in tag:\n",
    "        upos_aug.add(t)\n",
    "\n",
    "word2index_aug = {w: i + 2 for i, w in enumerate(list(words_aug))}\n",
    "word2index_aug['-PAD-'] = 0  # The special value used for padding\n",
    "word2index_aug['-OOV-'] = 1  # The special value used for OOVs\n",
    " \n",
    "upos2index_aug = {t: i + 1 for i, t in enumerate(list(upos_aug))}\n",
    "upos2index_aug['-PAD-'] = 0\n",
    "upos2index_aug['-OOV-'] = 1"
   ]
  },
  {
   "cell_type": "code",
   "execution_count": 462,
   "id": "620a5665-3963-406e-96d7-d8ac9b1b98af",
   "metadata": {},
   "outputs": [
    {
     "data": {
      "text/plain": [
       "4733"
      ]
     },
     "execution_count": 462,
     "metadata": {},
     "output_type": "execute_result"
    }
   ],
   "source": [
    "len(words_aug)"
   ]
  },
  {
   "cell_type": "code",
   "execution_count": 463,
   "id": "6a79618d-bcaf-44b0-82d3-5bb487672075",
   "metadata": {},
   "outputs": [
    {
     "data": {
      "text/plain": [
       "21"
      ]
     },
     "execution_count": 463,
     "metadata": {},
     "output_type": "execute_result"
    }
   ],
   "source": [
    "len(upos_aug)"
   ]
  },
  {
   "cell_type": "code",
   "execution_count": 470,
   "id": "946dae8e-703f-4e19-82b6-128c86cb3f67",
   "metadata": {},
   "outputs": [],
   "source": [
    "train_sentences_x, test_sentences_x, train_upos_y, test_upos_y = [], [], [], []\n",
    " \n",
    "for sentence in train_sentences:\n",
    "    sentence_int = []\n",
    "    for word in sentence:\n",
    "        try:\n",
    "            sentence_int.append(word2index_aug[word.lower()])\n",
    "        except KeyError:\n",
    "            sentence_int.append(word2index_aug['-OOV-'])\n",
    "    train_sentences_x.append(sentence_int)\n",
    "\n",
    "for sentence in test_sentences:\n",
    "    sentence_int = []\n",
    "    for word in sentence:\n",
    "        try:\n",
    "            sentence_int.append(word2index_aug[word.lower()])\n",
    "        except KeyError:\n",
    "            sentence_int.append(word2index_aug['-OOV-'])\n",
    "    test_sentences_x.append(sentence_int)\n",
    "\n",
    "for sentence in train_upos:\n",
    "    sentence_int = []\n",
    "    for word in sentence:\n",
    "        try:\n",
    "            sentence_int.append(upos2index_aug[word.lower()])\n",
    "        except KeyError:\n",
    "            sentence_int.append(upos2index_aug['-OOV-'])\n",
    "    train_upos_y.append(sentence_int)\n",
    "\n",
    "for sentence in test_upos:\n",
    "    sentence_int = []\n",
    "    for word in sentence:\n",
    "        try:\n",
    "            sentence_int.append(upos2index_aug[word.lower()])\n",
    "        except KeyError:\n",
    "            sentence_int.append(upos2index_aug['-OOV-'])\n",
    "    test_upos_y.append(sentence_int)"
   ]
  },
  {
   "cell_type": "code",
   "execution_count": 471,
   "id": "e010d951-b47c-4855-9483-2082df57bfc9",
   "metadata": {},
   "outputs": [
    {
     "name": "stdout",
     "output_type": "stream",
     "text": [
      "26\n"
     ]
    }
   ],
   "source": [
    "MAX_LENGTH = len(max(train_sentences_x, key=len))\n",
    "print(MAX_LENGTH)"
   ]
  },
  {
   "cell_type": "code",
   "execution_count": 472,
   "id": "59f57ca0-95de-4244-a9c3-0ac3545de146",
   "metadata": {},
   "outputs": [],
   "source": [
    "train_sentences_x = pad_sequences(train_sentences_x, maxlen=MAX_LENGTH, padding='post')\n",
    "test_sentences_x = pad_sequences(test_sentences_x, maxlen=MAX_LENGTH, padding='post')\n",
    "train_upos_y = pad_sequences(train_upos_y, maxlen=MAX_LENGTH, padding='post')\n",
    "test_upos_y = pad_sequences(test_upos_y, maxlen=MAX_LENGTH, padding='post')"
   ]
  },
  {
   "cell_type": "code",
   "execution_count": 473,
   "id": "78d4ae23-02c4-4615-b99d-378a7861ba5f",
   "metadata": {},
   "outputs": [],
   "source": [
    "cat_train_upos_y = to_categorical(train_upos_y, len(upos2index))\n",
    "cat_test_upos_y = to_categorical(test_upos_y, len(upos2index))"
   ]
  },
  {
   "cell_type": "markdown",
   "id": "f5ee4e58-f73e-433d-85be-d9ebb77cc7bc",
   "metadata": {},
   "source": [
    "## Model 1 - Recurrent Neural Network"
   ]
  },
  {
   "cell_type": "code",
   "execution_count": 480,
   "id": "2dbf76bf-4f4d-42bb-8ca1-c632c3f723c0",
   "metadata": {},
   "outputs": [],
   "source": [
    "tf.keras.backend.clear_session()\n",
    "\n",
    "input_layer_1_aug = Input(shape=(MAX_LENGTH,))\n",
    "embedding_1_aug = Embedding(input_dim=len(word2index), output_dim=100)(input_layer_1_aug)\n",
    "rnn_aug = SimpleRNN(100, return_sequences=True)(embedding_1_aug)\n",
    "output_1_aug = TimeDistributed(Dense(len(upos2index)))(rnn_aug)\n",
    "activation_1_aug = Activation('softmax')(output_1_aug)"
   ]
  },
  {
   "cell_type": "code",
   "execution_count": 481,
   "id": "2d3ad0cf-cba6-4495-9b94-31ede9d207f0",
   "metadata": {},
   "outputs": [],
   "source": [
    "model1_aug = Model(inputs=[input_layer_1_aug], outputs=[activation_1_aug])"
   ]
  },
  {
   "cell_type": "code",
   "execution_count": 482,
   "id": "2c43d2bb-841b-4439-a68d-d2cf43108449",
   "metadata": {},
   "outputs": [],
   "source": [
    "model1_aug.compile(loss='categorical_crossentropy', optimizer='adam', metrics=['accuracy'])"
   ]
  },
  {
   "cell_type": "code",
   "execution_count": 483,
   "id": "05da31b1-ee71-4db1-b600-8e3cb79adf6f",
   "metadata": {},
   "outputs": [
    {
     "name": "stdout",
     "output_type": "stream",
     "text": [
      "Model: \"model\"\n",
      "_________________________________________________________________\n",
      "Layer (type)                 Output Shape              Param #   \n",
      "=================================================================\n",
      "input_1 (InputLayer)         [(None, 26)]              0         \n",
      "_________________________________________________________________\n",
      "embedding (Embedding)        (None, 26, 100)           497200    \n",
      "_________________________________________________________________\n",
      "simple_rnn (SimpleRNN)       (None, 26, 100)           20100     \n",
      "_________________________________________________________________\n",
      "time_distributed (TimeDistri (None, 26, 25)            2525      \n",
      "_________________________________________________________________\n",
      "activation (Activation)      (None, 26, 25)            0         \n",
      "=================================================================\n",
      "Total params: 519,825\n",
      "Trainable params: 519,825\n",
      "Non-trainable params: 0\n",
      "_________________________________________________________________\n"
     ]
    }
   ],
   "source": [
    "model1_aug.summary()"
   ]
  },
  {
   "cell_type": "code",
   "execution_count": 484,
   "id": "ef5f720e-96a3-42d6-8388-3615c745c415",
   "metadata": {},
   "outputs": [
    {
     "name": "stdout",
     "output_type": "stream",
     "text": [
      "Epoch 1/40\n",
      "20/20 [==============================] - 2s 64ms/step - loss: 2.0684 - accuracy: 0.6089 - val_loss: 0.8437 - val_accuracy: 0.7900\n",
      "Epoch 2/40\n",
      "20/20 [==============================] - 1s 47ms/step - loss: 0.7723 - accuracy: 0.7938 - val_loss: 0.6986 - val_accuracy: 0.8007\n",
      "Epoch 3/40\n",
      "20/20 [==============================] - 1s 48ms/step - loss: 0.6708 - accuracy: 0.8027 - val_loss: 0.6425 - val_accuracy: 0.8000\n",
      "Epoch 4/40\n",
      "20/20 [==============================] - 1s 49ms/step - loss: 0.6012 - accuracy: 0.8075 - val_loss: 0.5812 - val_accuracy: 0.8230\n",
      "Epoch 5/40\n",
      "20/20 [==============================] - 1s 47ms/step - loss: 0.5384 - accuracy: 0.8332 - val_loss: 0.5263 - val_accuracy: 0.8494\n",
      "Epoch 6/40\n",
      "20/20 [==============================] - 1s 50ms/step - loss: 0.4750 - accuracy: 0.8673 - val_loss: 0.4886 - val_accuracy: 0.8707\n",
      "Epoch 7/40\n",
      "20/20 [==============================] - 1s 47ms/step - loss: 0.4234 - accuracy: 0.9121 - val_loss: 0.4497 - val_accuracy: 0.8835\n",
      "Epoch 8/40\n",
      "20/20 [==============================] - 1s 48ms/step - loss: 0.3748 - accuracy: 0.9285 - val_loss: 0.4137 - val_accuracy: 0.8869\n",
      "Epoch 9/40\n",
      "20/20 [==============================] - 1s 47ms/step - loss: 0.3214 - accuracy: 0.9380 - val_loss: 0.3944 - val_accuracy: 0.8913\n",
      "Epoch 10/40\n",
      "20/20 [==============================] - 1s 48ms/step - loss: 0.2835 - accuracy: 0.9419 - val_loss: 0.3672 - val_accuracy: 0.8993\n",
      "Epoch 11/40\n",
      "20/20 [==============================] - 1s 48ms/step - loss: 0.2420 - accuracy: 0.9485 - val_loss: 0.3476 - val_accuracy: 0.9037\n",
      "Epoch 12/40\n",
      "20/20 [==============================] - 1s 46ms/step - loss: 0.2096 - accuracy: 0.9528 - val_loss: 0.3358 - val_accuracy: 0.9055\n",
      "Epoch 13/40\n",
      "20/20 [==============================] - 1s 48ms/step - loss: 0.1867 - accuracy: 0.9547 - val_loss: 0.3267 - val_accuracy: 0.9070\n",
      "Epoch 14/40\n",
      "20/20 [==============================] - 1s 47ms/step - loss: 0.1628 - accuracy: 0.9600 - val_loss: 0.3174 - val_accuracy: 0.9125\n",
      "Epoch 15/40\n",
      "20/20 [==============================] - 1s 47ms/step - loss: 0.1457 - accuracy: 0.9656 - val_loss: 0.3128 - val_accuracy: 0.9142\n",
      "Epoch 16/40\n",
      "20/20 [==============================] - 1s 48ms/step - loss: 0.1318 - accuracy: 0.9688 - val_loss: 0.3024 - val_accuracy: 0.9164\n",
      "Epoch 17/40\n",
      "20/20 [==============================] - 1s 48ms/step - loss: 0.1185 - accuracy: 0.9735 - val_loss: 0.3074 - val_accuracy: 0.9166\n",
      "Epoch 18/40\n",
      "20/20 [==============================] - 1s 46ms/step - loss: 0.1054 - accuracy: 0.9765 - val_loss: 0.2925 - val_accuracy: 0.9199\n",
      "Epoch 19/40\n",
      "20/20 [==============================] - 1s 48ms/step - loss: 0.0965 - accuracy: 0.9789 - val_loss: 0.2892 - val_accuracy: 0.9208\n",
      "Epoch 20/40\n",
      "20/20 [==============================] - 1s 49ms/step - loss: 0.0883 - accuracy: 0.9811 - val_loss: 0.2895 - val_accuracy: 0.9210\n",
      "Epoch 21/40\n",
      "20/20 [==============================] - 1s 48ms/step - loss: 0.0797 - accuracy: 0.9827 - val_loss: 0.2907 - val_accuracy: 0.9210\n",
      "Epoch 22/40\n",
      "20/20 [==============================] - 1s 48ms/step - loss: 0.0737 - accuracy: 0.9838 - val_loss: 0.2895 - val_accuracy: 0.9219\n",
      "Epoch 23/40\n",
      "20/20 [==============================] - 1s 47ms/step - loss: 0.0705 - accuracy: 0.9834 - val_loss: 0.2867 - val_accuracy: 0.9227\n",
      "Epoch 24/40\n",
      "20/20 [==============================] - 1s 47ms/step - loss: 0.0648 - accuracy: 0.9851 - val_loss: 0.2904 - val_accuracy: 0.9227\n",
      "Epoch 25/40\n",
      "20/20 [==============================] - 1s 47ms/step - loss: 0.0592 - accuracy: 0.9866 - val_loss: 0.2866 - val_accuracy: 0.9235\n",
      "Epoch 26/40\n",
      "20/20 [==============================] - 1s 48ms/step - loss: 0.0566 - accuracy: 0.9863 - val_loss: 0.2876 - val_accuracy: 0.9233\n",
      "Epoch 27/40\n",
      "20/20 [==============================] - 1s 47ms/step - loss: 0.0518 - accuracy: 0.9875 - val_loss: 0.2829 - val_accuracy: 0.9243\n",
      "Epoch 28/40\n",
      "20/20 [==============================] - 1s 47ms/step - loss: 0.0497 - accuracy: 0.9874 - val_loss: 0.2865 - val_accuracy: 0.9233\n",
      "Epoch 29/40\n",
      "20/20 [==============================] - 1s 47ms/step - loss: 0.0454 - accuracy: 0.9890 - val_loss: 0.2847 - val_accuracy: 0.9238\n",
      "Epoch 30/40\n",
      "20/20 [==============================] - 1s 48ms/step - loss: 0.0457 - accuracy: 0.9882 - val_loss: 0.2849 - val_accuracy: 0.9239\n",
      "Epoch 31/40\n",
      "20/20 [==============================] - 1s 47ms/step - loss: 0.0411 - accuracy: 0.9897 - val_loss: 0.2868 - val_accuracy: 0.9239\n",
      "Epoch 32/40\n",
      "20/20 [==============================] - 1s 48ms/step - loss: 0.0417 - accuracy: 0.9889 - val_loss: 0.2831 - val_accuracy: 0.9250\n",
      "Epoch 33/40\n",
      "20/20 [==============================] - 1s 49ms/step - loss: 0.0388 - accuracy: 0.9900 - val_loss: 0.2852 - val_accuracy: 0.9252\n",
      "Epoch 34/40\n",
      "20/20 [==============================] - 1s 47ms/step - loss: 0.0374 - accuracy: 0.9904 - val_loss: 0.2844 - val_accuracy: 0.9256\n",
      "Epoch 35/40\n",
      "20/20 [==============================] - 1s 47ms/step - loss: 0.0368 - accuracy: 0.9903 - val_loss: 0.2811 - val_accuracy: 0.9263\n",
      "Epoch 36/40\n",
      "20/20 [==============================] - 1s 47ms/step - loss: 0.0334 - accuracy: 0.9910 - val_loss: 0.2837 - val_accuracy: 0.9258\n",
      "Epoch 37/40\n",
      "20/20 [==============================] - 1s 47ms/step - loss: 0.0331 - accuracy: 0.9910 - val_loss: 0.2833 - val_accuracy: 0.9256\n",
      "Epoch 38/40\n",
      "20/20 [==============================] - 1s 48ms/step - loss: 0.0326 - accuracy: 0.9909 - val_loss: 0.2826 - val_accuracy: 0.9258\n",
      "Epoch 39/40\n",
      "20/20 [==============================] - 1s 48ms/step - loss: 0.0311 - accuracy: 0.9913 - val_loss: 0.2830 - val_accuracy: 0.9265\n",
      "Epoch 40/40\n",
      "20/20 [==============================] - 1s 48ms/step - loss: 0.0303 - accuracy: 0.9916 - val_loss: 0.2841 - val_accuracy: 0.9262\n"
     ]
    }
   ],
   "source": [
    "history1_aug = model1_aug.fit(train_sentences_x, cat_train_upos_y, batch_size=128, epochs=40, validation_data=(test_sentences_x, cat_test_upos_y))"
   ]
  },
  {
   "cell_type": "code",
   "execution_count": 485,
   "id": "7978b58e-bd4b-434a-b4e5-eff6b68b64ae",
   "metadata": {},
   "outputs": [
    {
     "name": "stdout",
     "output_type": "stream",
     "text": [
      "20/20 [==============================] - 0s 7ms/step - loss: 0.2841 - accuracy: 0.9262\n",
      "accuracy: 92.61562824249268\n"
     ]
    }
   ],
   "source": [
    "scores = model1_aug.evaluate(test_sentences_x, cat_test_upos_y)\n",
    "print(f\"{model1_aug.metrics_names[1]}: {scores[1] * 100}\")"
   ]
  },
  {
   "cell_type": "markdown",
   "id": "8ec73a8b-946e-4d03-b396-46a4e600ad60",
   "metadata": {},
   "source": [
    "## Model 2 - Long Short Term Memory"
   ]
  },
  {
   "cell_type": "code",
   "execution_count": 491,
   "id": "86a00393-8bcf-4066-9167-6143b2b6603d",
   "metadata": {},
   "outputs": [],
   "source": [
    "tf.keras.backend.clear_session()\n",
    "\n",
    "input_layer_2_aug = Input(shape=(MAX_LENGTH,))\n",
    "embedding_2_aug = Embedding(input_dim=len(word2index), output_dim=128)(input_layer_2_aug)\n",
    "lstm_aug = LSTM(256, return_sequences=True)(embedding_2_aug)\n",
    "output_2_aug = TimeDistributed(Dense(len(upos2index)))(lstm_aug)\n",
    "activation_2_aug = Activation('softmax')(output_2_aug)"
   ]
  },
  {
   "cell_type": "code",
   "execution_count": 492,
   "id": "eca96021-fc91-47b7-8ff2-1c89be608474",
   "metadata": {},
   "outputs": [],
   "source": [
    "model2_aug = Model(inputs=[input_layer_2_aug], outputs=[activation_2_aug])"
   ]
  },
  {
   "cell_type": "code",
   "execution_count": 493,
   "id": "b622cdd7-939e-4e73-86bd-79fbd3daac99",
   "metadata": {},
   "outputs": [],
   "source": [
    "model2_aug.compile(loss='categorical_crossentropy', optimizer='adam', metrics=['accuracy'])"
   ]
  },
  {
   "cell_type": "code",
   "execution_count": 494,
   "id": "90c4e3f9-0969-4f08-b63e-8c6ac9a113cb",
   "metadata": {},
   "outputs": [
    {
     "name": "stdout",
     "output_type": "stream",
     "text": [
      "Model: \"model\"\n",
      "_________________________________________________________________\n",
      "Layer (type)                 Output Shape              Param #   \n",
      "=================================================================\n",
      "input_1 (InputLayer)         [(None, 26)]              0         \n",
      "_________________________________________________________________\n",
      "embedding (Embedding)        (None, 26, 128)           636416    \n",
      "_________________________________________________________________\n",
      "lstm (LSTM)                  (None, 26, 256)           394240    \n",
      "_________________________________________________________________\n",
      "time_distributed (TimeDistri (None, 26, 25)            6425      \n",
      "_________________________________________________________________\n",
      "activation (Activation)      (None, 26, 25)            0         \n",
      "=================================================================\n",
      "Total params: 1,037,081\n",
      "Trainable params: 1,037,081\n",
      "Non-trainable params: 0\n",
      "_________________________________________________________________\n"
     ]
    }
   ],
   "source": [
    "model2_aug.summary()"
   ]
  },
  {
   "cell_type": "code",
   "execution_count": 495,
   "id": "b3715c1e-abdb-4ba3-b8f1-d264f9f3f138",
   "metadata": {},
   "outputs": [
    {
     "name": "stdout",
     "output_type": "stream",
     "text": [
      "Epoch 1/40\n",
      "20/20 [==============================] - 3s 47ms/step - loss: 2.3059 - accuracy: 0.6651 - val_loss: 0.9246 - val_accuracy: 0.7895\n",
      "Epoch 2/40\n",
      "20/20 [==============================] - 0s 18ms/step - loss: 0.7673 - accuracy: 0.7939 - val_loss: 0.6716 - val_accuracy: 0.7910\n",
      "Epoch 3/40\n",
      "20/20 [==============================] - 0s 18ms/step - loss: 0.6419 - accuracy: 0.7978 - val_loss: 0.6159 - val_accuracy: 0.7932\n",
      "Epoch 4/40\n",
      "20/20 [==============================] - 0s 18ms/step - loss: 0.5692 - accuracy: 0.8042 - val_loss: 0.5701 - val_accuracy: 0.8221\n",
      "Epoch 5/40\n",
      "20/20 [==============================] - 0s 18ms/step - loss: 0.5267 - accuracy: 0.8331 - val_loss: 0.5314 - val_accuracy: 0.8454\n",
      "Epoch 6/40\n",
      "20/20 [==============================] - 0s 17ms/step - loss: 0.4687 - accuracy: 0.8615 - val_loss: 0.4986 - val_accuracy: 0.8680\n",
      "Epoch 7/40\n",
      "20/20 [==============================] - 0s 18ms/step - loss: 0.4239 - accuracy: 0.8931 - val_loss: 0.4601 - val_accuracy: 0.8767\n",
      "Epoch 8/40\n",
      "20/20 [==============================] - 0s 18ms/step - loss: 0.3753 - accuracy: 0.9062 - val_loss: 0.4611 - val_accuracy: 0.8800\n",
      "Epoch 9/40\n",
      "20/20 [==============================] - 0s 18ms/step - loss: 0.3351 - accuracy: 0.9147 - val_loss: 0.4258 - val_accuracy: 0.8843\n",
      "Epoch 10/40\n",
      "20/20 [==============================] - 0s 18ms/step - loss: 0.2965 - accuracy: 0.9202 - val_loss: 0.4066 - val_accuracy: 0.8885\n",
      "Epoch 11/40\n",
      "20/20 [==============================] - 0s 19ms/step - loss: 0.2680 - accuracy: 0.9244 - val_loss: 0.4068 - val_accuracy: 0.8902\n",
      "Epoch 12/40\n",
      "20/20 [==============================] - 0s 18ms/step - loss: 0.2373 - accuracy: 0.9313 - val_loss: 0.4119 - val_accuracy: 0.8975\n",
      "Epoch 13/40\n",
      "20/20 [==============================] - 0s 18ms/step - loss: 0.2182 - accuracy: 0.9365 - val_loss: 0.4021 - val_accuracy: 0.9010\n",
      "Epoch 14/40\n",
      "20/20 [==============================] - 0s 17ms/step - loss: 0.1967 - accuracy: 0.9411 - val_loss: 0.3980 - val_accuracy: 0.9003\n",
      "Epoch 15/40\n",
      "20/20 [==============================] - 0s 18ms/step - loss: 0.1718 - accuracy: 0.9457 - val_loss: 0.4108 - val_accuracy: 0.8968\n",
      "Epoch 16/40\n",
      "20/20 [==============================] - 0s 17ms/step - loss: 0.1565 - accuracy: 0.9500 - val_loss: 0.4058 - val_accuracy: 0.8984\n",
      "Epoch 17/40\n",
      "20/20 [==============================] - 0s 18ms/step - loss: 0.1387 - accuracy: 0.9546 - val_loss: 0.4230 - val_accuracy: 0.8983\n",
      "Epoch 18/40\n",
      "20/20 [==============================] - 0s 18ms/step - loss: 0.1284 - accuracy: 0.9571 - val_loss: 0.4114 - val_accuracy: 0.9004\n",
      "Epoch 19/40\n",
      "20/20 [==============================] - 0s 18ms/step - loss: 0.1134 - accuracy: 0.9623 - val_loss: 0.4125 - val_accuracy: 0.9042\n",
      "Epoch 20/40\n",
      "20/20 [==============================] - 0s 18ms/step - loss: 0.1061 - accuracy: 0.9652 - val_loss: 0.4089 - val_accuracy: 0.9083\n",
      "Epoch 21/40\n",
      "20/20 [==============================] - 0s 17ms/step - loss: 0.1006 - accuracy: 0.9682 - val_loss: 0.4171 - val_accuracy: 0.9103\n",
      "Epoch 22/40\n",
      "20/20 [==============================] - 0s 17ms/step - loss: 0.0923 - accuracy: 0.9716 - val_loss: 0.4032 - val_accuracy: 0.9148\n",
      "Epoch 23/40\n",
      "20/20 [==============================] - 0s 17ms/step - loss: 0.0874 - accuracy: 0.9737 - val_loss: 0.4100 - val_accuracy: 0.9163\n",
      "Epoch 24/40\n",
      "20/20 [==============================] - 0s 17ms/step - loss: 0.0825 - accuracy: 0.9755 - val_loss: 0.4011 - val_accuracy: 0.9183\n",
      "Epoch 25/40\n",
      "20/20 [==============================] - 0s 17ms/step - loss: 0.0769 - accuracy: 0.9769 - val_loss: 0.3969 - val_accuracy: 0.9176\n",
      "Epoch 26/40\n",
      "20/20 [==============================] - 0s 17ms/step - loss: 0.0711 - accuracy: 0.9782 - val_loss: 0.3927 - val_accuracy: 0.9229\n",
      "Epoch 27/40\n",
      "20/20 [==============================] - 0s 17ms/step - loss: 0.0692 - accuracy: 0.9789 - val_loss: 0.3855 - val_accuracy: 0.9252\n",
      "Epoch 28/40\n",
      "20/20 [==============================] - 0s 17ms/step - loss: 0.0677 - accuracy: 0.9791 - val_loss: 0.3806 - val_accuracy: 0.9262\n",
      "Epoch 29/40\n",
      "20/20 [==============================] - 0s 17ms/step - loss: 0.0621 - accuracy: 0.9818 - val_loss: 0.3742 - val_accuracy: 0.9259\n",
      "Epoch 30/40\n",
      "20/20 [==============================] - 0s 17ms/step - loss: 0.0600 - accuracy: 0.9814 - val_loss: 0.3685 - val_accuracy: 0.9284\n",
      "Epoch 31/40\n",
      "20/20 [==============================] - 0s 17ms/step - loss: 0.0580 - accuracy: 0.9824 - val_loss: 0.3646 - val_accuracy: 0.9284\n",
      "Epoch 32/40\n",
      "20/20 [==============================] - 0s 17ms/step - loss: 0.0553 - accuracy: 0.9830 - val_loss: 0.3550 - val_accuracy: 0.9281\n",
      "Epoch 33/40\n",
      "20/20 [==============================] - 0s 17ms/step - loss: 0.0537 - accuracy: 0.9829 - val_loss: 0.3592 - val_accuracy: 0.9287\n",
      "Epoch 34/40\n",
      "20/20 [==============================] - 0s 18ms/step - loss: 0.0499 - accuracy: 0.9844 - val_loss: 0.3435 - val_accuracy: 0.9295\n",
      "Epoch 35/40\n",
      "20/20 [==============================] - 0s 18ms/step - loss: 0.0475 - accuracy: 0.9846 - val_loss: 0.3343 - val_accuracy: 0.9318\n",
      "Epoch 36/40\n",
      "20/20 [==============================] - 0s 17ms/step - loss: 0.0468 - accuracy: 0.9853 - val_loss: 0.3344 - val_accuracy: 0.9308\n",
      "Epoch 37/40\n",
      "20/20 [==============================] - 0s 17ms/step - loss: 0.0432 - accuracy: 0.9862 - val_loss: 0.3341 - val_accuracy: 0.9323\n",
      "Epoch 38/40\n",
      "20/20 [==============================] - 0s 17ms/step - loss: 0.0408 - accuracy: 0.9868 - val_loss: 0.3376 - val_accuracy: 0.9312\n",
      "Epoch 39/40\n",
      "20/20 [==============================] - 0s 17ms/step - loss: 0.0417 - accuracy: 0.9874 - val_loss: 0.3337 - val_accuracy: 0.9313\n",
      "Epoch 40/40\n",
      "20/20 [==============================] - 0s 17ms/step - loss: 0.0394 - accuracy: 0.9875 - val_loss: 0.3360 - val_accuracy: 0.9323\n"
     ]
    }
   ],
   "source": [
    "history2_aug = model2_aug.fit(train_sentences_x, cat_train_upos_y, batch_size=128, epochs=40, validation_data=(test_sentences_x, cat_test_upos_y))"
   ]
  },
  {
   "cell_type": "code",
   "execution_count": 496,
   "id": "14acb1c5-a6d8-4531-954c-04c547c86025",
   "metadata": {},
   "outputs": [
    {
     "name": "stdout",
     "output_type": "stream",
     "text": [
      "20/20 [==============================] - 0s 5ms/step - loss: 0.3360 - accuracy: 0.9323\n",
      "accuracy: 93.2314932346344\n"
     ]
    }
   ],
   "source": [
    "scores = model2_aug.evaluate(test_sentences_x, cat_test_upos_y)\n",
    "print(f\"{model2_aug.metrics_names[1]}: {scores[1] * 100}\")"
   ]
  },
  {
   "cell_type": "markdown",
   "id": "72ee3fc6-6773-4477-8a62-ffd3673823e0",
   "metadata": {},
   "source": [
    "# Observations:\n",
    "As a part of data augmentation, we have removed words with length less than or equal to two. We have then performed similar preproccessing steps for the augmented data and have used the same models.\n",
    "\n",
    "We quickly notice that, the validation accuracy is reduced by a considerable margin when compared to model with full data. By comparing the RNN and LSTM models built for augmented data, we see that LSTM again is performing better than simple RNN. The validation accuracy of the simple RNN model is 92.6156% while the validation accuracy for the bidirectional LSTM model is 93.2314%. This shows that LSTM is a better model than a simple RNN.\n",
    "\n",
    "The same preprocessing techniques and model architecture can be used for predicting xpos tags as well."
   ]
  }
 ],
 "metadata": {
  "kernelspec": {
   "display_name": "Python 3",
   "language": "python",
   "name": "python3"
  },
  "language_info": {
   "codemirror_mode": {
    "name": "ipython",
    "version": 3
   },
   "file_extension": ".py",
   "mimetype": "text/x-python",
   "name": "python",
   "nbconvert_exporter": "python",
   "pygments_lexer": "ipython3",
   "version": "3.8.10"
  }
 },
 "nbformat": 4,
 "nbformat_minor": 5
}
